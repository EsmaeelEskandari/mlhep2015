{
 "cells": [
  {
   "cell_type": "code",
   "execution_count": 39,
   "metadata": {
    "collapsed": true
   },
   "outputs": [],
   "source": [
    "import pandas as pd\n",
    "import numpy as np"
   ]
  },
  {
   "cell_type": "code",
   "execution_count": 25,
   "metadata": {
    "collapsed": false
   },
   "outputs": [],
   "source": [
    "points = pd.read_csv(\"moe_hcv_comet_gradient boosintg_points_sampled\", sep=' ', names=[\n",
    "        \"loss\", \"learning_rate\", \"max_depth\", \"n_estimators\", \"min_samples_split\", \"min_samples_leaf\"\n",
    "    ])"
   ]
  },
  {
   "cell_type": "code",
   "execution_count": 27,
   "metadata": {
    "collapsed": false
   },
   "outputs": [],
   "source": [
    "roc_values = pd.read_csv(\"moe_hcv_comet_gradient boosintg_points_sampled_value\", names=['roc_auc'])"
   ]
  },
  {
   "cell_type": "code",
   "execution_count": 34,
   "metadata": {
    "collapsed": false
   },
   "outputs": [],
   "source": [
    "points_var = pd.read_csv(\"moe_hcv_comet_gradient boosintg_points_sampled_noise_var\", names=['roc_auc_var'])"
   ]
  },
  {
   "cell_type": "code",
   "execution_count": 29,
   "metadata": {
    "collapsed": false
   },
   "outputs": [],
   "source": [
    "points.loc[:, 'roc_auc'] = -roc_values"
   ]
  },
  {
   "cell_type": "code",
   "execution_count": 40,
   "metadata": {
    "collapsed": false
   },
   "outputs": [],
   "source": [
    "points.loc[:, 'roc_auc_std'] = np.sqrt(points_var.roc_auc_var)"
   ]
  },
  {
   "cell_type": "code",
   "execution_count": 41,
   "metadata": {
    "collapsed": false
   },
   "outputs": [
    {
     "data": {
      "text/html": [
       "<div>\n",
       "<table border=\"1\" class=\"dataframe\">\n",
       "  <thead>\n",
       "    <tr style=\"text-align: right;\">\n",
       "      <th></th>\n",
       "      <th>loss</th>\n",
       "      <th>learning_rate</th>\n",
       "      <th>max_depth</th>\n",
       "      <th>n_estimators</th>\n",
       "      <th>min_samples_split</th>\n",
       "      <th>min_samples_leaf</th>\n",
       "      <th>roc_auc</th>\n",
       "      <th>roc_auc_std</th>\n",
       "    </tr>\n",
       "  </thead>\n",
       "  <tbody>\n",
       "    <tr>\n",
       "      <th>0</th>\n",
       "      <td>1.190096</td>\n",
       "      <td>0.688714</td>\n",
       "      <td>9.255822</td>\n",
       "      <td>349.215517</td>\n",
       "      <td>5.250356</td>\n",
       "      <td>9.620427</td>\n",
       "      <td>0.997677</td>\n",
       "      <td>0.000167</td>\n",
       "    </tr>\n",
       "    <tr>\n",
       "      <th>1</th>\n",
       "      <td>0.102846</td>\n",
       "      <td>0.435393</td>\n",
       "      <td>2.231368</td>\n",
       "      <td>426.105869</td>\n",
       "      <td>12.223014</td>\n",
       "      <td>9.445494</td>\n",
       "      <td>0.997443</td>\n",
       "      <td>0.000276</td>\n",
       "    </tr>\n",
       "    <tr>\n",
       "      <th>2</th>\n",
       "      <td>0.992683</td>\n",
       "      <td>0.247156</td>\n",
       "      <td>9.552136</td>\n",
       "      <td>132.337324</td>\n",
       "      <td>18.478789</td>\n",
       "      <td>4.191005</td>\n",
       "      <td>0.983171</td>\n",
       "      <td>0.000260</td>\n",
       "    </tr>\n",
       "    <tr>\n",
       "      <th>3</th>\n",
       "      <td>1.193626</td>\n",
       "      <td>0.819283</td>\n",
       "      <td>5.014052</td>\n",
       "      <td>249.818232</td>\n",
       "      <td>2.611028</td>\n",
       "      <td>9.289155</td>\n",
       "      <td>0.997412</td>\n",
       "      <td>0.000309</td>\n",
       "    </tr>\n",
       "    <tr>\n",
       "      <th>4</th>\n",
       "      <td>0.668454</td>\n",
       "      <td>0.799616</td>\n",
       "      <td>2.666196</td>\n",
       "      <td>118.392626</td>\n",
       "      <td>14.553565</td>\n",
       "      <td>1.370076</td>\n",
       "      <td>0.964499</td>\n",
       "      <td>0.000677</td>\n",
       "    </tr>\n",
       "  </tbody>\n",
       "</table>\n",
       "</div>"
      ],
      "text/plain": [
       "       loss  learning_rate  max_depth  n_estimators  min_samples_split  \\\n",
       "0  1.190096       0.688714   9.255822    349.215517           5.250356   \n",
       "1  0.102846       0.435393   2.231368    426.105869          12.223014   \n",
       "2  0.992683       0.247156   9.552136    132.337324          18.478789   \n",
       "3  1.193626       0.819283   5.014052    249.818232           2.611028   \n",
       "4  0.668454       0.799616   2.666196    118.392626          14.553565   \n",
       "\n",
       "   min_samples_leaf   roc_auc  roc_auc_std  \n",
       "0          9.620427  0.997677     0.000167  \n",
       "1          9.445494  0.997443     0.000276  \n",
       "2          4.191005  0.983171     0.000260  \n",
       "3          9.289155  0.997412     0.000309  \n",
       "4          1.370076  0.964499     0.000677  "
      ]
     },
     "execution_count": 41,
     "metadata": {},
     "output_type": "execute_result"
    }
   ],
   "source": [
    "points.head()"
   ]
  },
  {
   "cell_type": "code",
   "execution_count": 42,
   "metadata": {
    "collapsed": true
   },
   "outputs": [],
   "source": [
    "points.to_csv(\"COMET_gradient_boosting_gauss_opt.csv\")"
   ]
  },
  {
   "cell_type": "code",
   "execution_count": null,
   "metadata": {
    "collapsed": true
   },
   "outputs": [],
   "source": []
  }
 ],
 "metadata": {
  "kernelspec": {
   "display_name": "Python 2",
   "language": "python",
   "name": "python2"
  },
  "language_info": {
   "codemirror_mode": {
    "name": "ipython",
    "version": 2
   },
   "file_extension": ".py",
   "mimetype": "text/x-python",
   "name": "python",
   "nbconvert_exporter": "python",
   "pygments_lexer": "ipython2",
   "version": "2.7.6"
  }
 },
 "nbformat": 4,
 "nbformat_minor": 0
}
